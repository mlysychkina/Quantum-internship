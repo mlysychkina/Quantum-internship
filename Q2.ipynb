{
 "cells": [
  {
   "cell_type": "code",
   "execution_count": 1,
   "metadata": {},
   "outputs": [
    {
     "name": "stdout",
     "output_type": "stream",
     "text": [
      "3 3\n"
     ]
    }
   ],
   "source": [
    "m, n = map(int, input().split())"
   ]
  },
  {
   "cell_type": "code",
   "execution_count": 2,
   "metadata": {},
   "outputs": [
    {
     "name": "stdout",
     "output_type": "stream",
     "text": [
      "1 1 1\n",
      "1 0 0\n",
      "0 1 0\n"
     ]
    }
   ],
   "source": [
    "matrix = list()\n",
    "\n",
    "for i in range(m):\n",
    "    line = list(map(int, input().split()))\n",
    "    matrix.append(line)"
   ]
  },
  {
   "cell_type": "code",
   "execution_count": 3,
   "metadata": {},
   "outputs": [],
   "source": [
    "def dfs(matrix, x, y, islands):\n",
    "    \n",
    "    if x >= 0 and x < m and y >= 0 and y < n and matrix[x][y] == 1:\n",
    "        matrix[x][y] = -islands\n",
    "        \n",
    "        dfs(matrix, x - 1, y, islands)\n",
    "        dfs(matrix, x + 1, y, islands)\n",
    "        dfs(matrix, x, y - 1, islands) \n",
    "        dfs(matrix, x, y + 1, islands)"
   ]
  },
  {
   "cell_type": "code",
   "execution_count": 4,
   "metadata": {},
   "outputs": [
    {
     "name": "stdout",
     "output_type": "stream",
     "text": [
      "2\n"
     ]
    }
   ],
   "source": [
    "islands = 0\n",
    "\n",
    "for i in range(m):\n",
    "    for j in range(n):\n",
    "        if matrix[i][j] == 1:\n",
    "            islands += 1\n",
    "            dfs(matrix, i, j, islands)\n",
    "            \n",
    "print (islands)   "
   ]
  }
 ],
 "metadata": {
  "kernelspec": {
   "display_name": "Python 3",
   "language": "python",
   "name": "python3"
  },
  "language_info": {
   "codemirror_mode": {
    "name": "ipython",
    "version": 3
   },
   "file_extension": ".py",
   "mimetype": "text/x-python",
   "name": "python",
   "nbconvert_exporter": "python",
   "pygments_lexer": "ipython3",
   "version": "3.8.5"
  }
 },
 "nbformat": 4,
 "nbformat_minor": 4
}
